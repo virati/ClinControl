{
 "cells": [
  {
   "cell_type": "markdown",
   "metadata": {},
   "source": [
    "# Flipping a coin with the cheater\n",
    "\n",
    "## A fair coin\n",
    "\n",
    "### Assessing macrostates\n",
    "A fair coin is pretty simple: The Bernoulli equation tells us the probabilities of various *macro*states.\n",
    "\n",
    "What's a macrostate?\n",
    "In this case it's when we only focus on the total number of heads/tails in a sequence of throws.\n",
    "We don't care about the exact *order* that the Hs and Ts are thrown.\n",
    "\n",
    "So let's say we toss a coin and it comes up\n",
    "\n",
    "> \n",
    "\n",
    "What's the probability of seeing this if we had a fair coin and fair tosses?"
   ]
  },
  {
   "cell_type": "markdown",
   "metadata": {},
   "source": [
    "### What about the *micro*states?\n",
    "Let's use an example - What's the probability that we'll see this sequence?\n",
    "\n",
    "> H T H H H T T H H T T T H T H T\n",
    "\n",
    "There are 8 H and 8 T. 50-50 in the macrostate of how many H and T there are.\n",
    "So does that mean the probability of us seeing the above sequence is 50%?\n",
    "Not in the slightest.\n",
    "\n",
    "What's different here is that we're looking at each coin flip and ascribing it a state.\n",
    "\n",
    "That means the probability of seeing this sequence above is\n",
    "\n",
    "> $\\left(\\frac{1}{2}\\right)^{16} = \\frac{1}{65536} = 0.00001525878$\n",
    "\n",
    "That's tiny.\n",
    "That's once in 65,000 trials if the coin is fair.\n",
    "\n",
    "If I told you ahead of time that we'd get that sequence with fair tosses of a fair coin, and then we do, you know one thing for certain: that was not a fair coin toss."
   ]
  },
  {
   "cell_type": "markdown",
   "metadata": {},
   "source": [
    "# A cheat at tossing\n",
    "Let's look at a (fairly contrived) example where we've got a sophisticated cheat.\n",
    "This one doesn't just use a trick coin for all the throws.\n",
    "They use it for very specific throws.\n",
    "They tell you \"On every 5th throw I'll give you \\\\$10 if it comes heads, you give me \\\\$10 if it comes tails\"\n",
    "\n",
    "It's a fair coin, right? So you say yes.\n",
    "\n",
    "So we let him toss the coin 25 times. We see\n",
    "\n",
    "> T H H T T H T T H H H H T H T H T T T T H H H H T\n",
    "\n",
    "Interesting, what is every fifth coin toss?\n",
    "\n",
    "> T H H T T* H T T H T* H H T H T* H T T T T* H H H H T*\n",
    "\n",
    "If we look at home many heads there are we see - \n",
    "H: 12\n",
    "T: 13\n",
    "\n",
    "That would be reasonable to see if it was a fair coin.\n",
    "\n",
    "But doesn't it bug you that every single fifth coin toss is T? And that you now owe the shady person \\\\$50?\n",
    "It should."
   ]
  },
  {
   "cell_type": "code",
   "execution_count": null,
   "metadata": {},
   "outputs": [],
   "source": []
  }
 ],
 "metadata": {
  "kernelspec": {
   "display_name": "Python 3",
   "language": "python",
   "name": "python3"
  },
  "language_info": {
   "codemirror_mode": {
    "name": "ipython",
    "version": 3
   },
   "file_extension": ".py",
   "mimetype": "text/x-python",
   "name": "python",
   "nbconvert_exporter": "python",
   "pygments_lexer": "ipython3",
   "version": "3.8.3"
  }
 },
 "nbformat": 4,
 "nbformat_minor": 4
}
