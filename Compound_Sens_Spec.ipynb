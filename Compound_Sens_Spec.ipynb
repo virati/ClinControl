{
 "cells": [
  {
   "cell_type": "markdown",
   "metadata": {},
   "source": [
    "# Compound Inference\n",
    "## Sens/Spec with multiple tests\n",
    "\n",
    "The sensitivity and specificity of a test are useful to give us an idea of how reliable the test is.\n",
    "Often, tests are assessed in isolationg: which test of this set of tests is *most reliable*.\n",
    "This test is then proposed as an archetype/goal.\n",
    "\n",
    "Tests, when taken in combination, provide a much richer picture.\n",
    "In this notebook we'll go through sens/spec of *compound* tests and demonstrate quantitatively that a combination of tests can achieve improved sens/spec than the \"best\" test.\n",
    "We'll then propose a formalised approach to deciding the optimal test combination to achieve a desired predictive performance in the context of *costs* to tests."
   ]
  },
  {
   "cell_type": "markdown",
   "metadata": {},
   "source": [
    "### Code Setup\n"
   ]
  },
  {
   "cell_type": "markdown",
   "metadata": {},
   "source": [
    "### Sens/Spec Basics\n",
    "\n",
    "\n",
    "\n",
    "### Compound tests.\n",
    "Let's deal with three tests now.\n",
    "\n",
    "Let's take a look at the ROC and the *area under* measure.\n",
    "\n",
    "\n",
    "### Tests with costs (Bayes Factor)."
   ]
  }
 ],
 "metadata": {
  "kernelspec": {
   "display_name": "Python 3",
   "language": "python",
   "name": "python3"
  },
  "language_info": {
   "codemirror_mode": {
    "name": "ipython",
    "version": 3
   },
   "file_extension": ".py",
   "mimetype": "text/x-python",
   "name": "python",
   "nbconvert_exporter": "python",
   "pygments_lexer": "ipython3",
   "version": "3.8.2"
  }
 },
 "nbformat": 4,
 "nbformat_minor": 4
}
